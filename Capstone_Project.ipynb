{
  "nbformat": 4,
  "nbformat_minor": 0,
  "metadata": {
    "colab": {
      "provenance": [],
      "authorship_tag": "ABX9TyM07P75u028FGnrQYU4POdo",
      "include_colab_link": true
    },
    "kernelspec": {
      "name": "python3",
      "display_name": "Python 3"
    },
    "language_info": {
      "name": "python"
    }
  },
  "cells": [
    {
      "cell_type": "markdown",
      "metadata": {
        "id": "view-in-github",
        "colab_type": "text"
      },
      "source": [
        "<a href=\"https://colab.research.google.com/github/RaqeebShaikh12/Capstone-Project/blob/main/Capstone_Project.ipynb\" target=\"_parent\"><img src=\"https://colab.research.google.com/assets/colab-badge.svg\" alt=\"Open In Colab\"/></a>"
      ]
    },
    {
      "cell_type": "markdown",
      "source": [
        "Problem statement: To build a deep learning image segmentation model to correctly identify 4 types of defects on the images. Identifying different types of steel sheet defects is critical to improving the company's and industry's automation, increasing efficiency, and maintaining high quality in production."
      ],
      "metadata": {
        "id": "4HJOHWLTR1UB"
      }
    },
    {
      "cell_type": "markdown",
      "source": [
        "### Importing all the important libraries"
      ],
      "metadata": {
        "id": "cuSntkYPSYHV"
      }
    },
    {
      "cell_type": "code",
      "execution_count": 1,
      "metadata": {
        "id": "NpCi_toyRz0O"
      },
      "outputs": [],
      "source": [
        "import pathlib\n",
        "import tensorflow as tf\n",
        "import matplotlib.pyplot as plt\n",
        "import numpy as np\n",
        "import pandas as pd\n",
        "import os\n",
        "import PIL\n",
        "from tensorflow import keras\n",
        "from tensorflow.keras import layers, models\n",
        "from tensorflow.keras.models import Sequential\n",
        "from tensorflow.keras.preprocessing.image import ImageDataGenerator"
      ]
    },
    {
      "cell_type": "code",
      "source": [
        "from google.colab import drive\n",
        "drive.mount('/content/gdrive')"
      ],
      "metadata": {
        "colab": {
          "base_uri": "https://localhost:8080/"
        },
        "id": "cpire6uCSm8q",
        "outputId": "04cf3835-7c02-4635-a775-0982d450d0fa"
      },
      "execution_count": 2,
      "outputs": [
        {
          "output_type": "stream",
          "name": "stdout",
          "text": [
            "Mounted at /content/gdrive\n"
          ]
        }
      ]
    },
    {
      "cell_type": "markdown",
      "source": [
        "This assignment uses a dataset of about 6666 images of steel sheet defect types. The dataset contains 4679 images in train, 1308 images in validation, and 679 images in test subdirectories. In each subdirectory they contains their respective CSV files."
      ],
      "metadata": {
        "id": "Ph2S3mGWTVqR"
      }
    },
    {
      "cell_type": "code",
      "source": [
        "# Defining the path for train, validate, and test images\n",
        "\n",
        "data_dir_train = pathlib.Path(\"/content/gdrive/MyDrive/severstal-steel-defect-detection.v1i.multiclass/train\")\n",
        "data_dir_validate = pathlib.Path(\"/content/gdrive/MyDrive/severstal-steel-defect-detection.v1i.multiclass/valid\")\n",
        "data_dir_test = pathlib.Path(\"/content/gdrive/MyDrive/severstal-steel-defect-detection.v1i.multiclass/test\")"
      ],
      "metadata": {
        "id": "TtxTphy7S4g_"
      },
      "execution_count": 3,
      "outputs": []
    },
    {
      "cell_type": "code",
      "source": [
        "image_count_train = len(list(data_dir_train.glob('*/*.jpg')))\n",
        "print(image_count_train)\n",
        "image_count_validate = len(list(data_dir_validate.glob('*/*.jpg')))\n",
        "print(image_count_validate)\n",
        "image_count_test = len(list(data_dir_test.glob('*/*.jpg')))\n",
        "print(image_count_test)"
      ],
      "metadata": {
        "colab": {
          "base_uri": "https://localhost:8080/"
        },
        "id": "gy-fgEZAUyev",
        "outputId": "e26c654c-ba2a-4257-afcd-82f771654f7d"
      },
      "execution_count": 4,
      "outputs": [
        {
          "output_type": "stream",
          "name": "stdout",
          "text": [
            "0\n",
            "0\n",
            "0\n"
          ]
        }
      ]
    },
    {
      "cell_type": "code",
      "source": [],
      "metadata": {
        "id": "M1XjTKQrVAoI"
      },
      "execution_count": null,
      "outputs": []
    }
  ]
}